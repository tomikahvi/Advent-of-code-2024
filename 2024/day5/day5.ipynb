{
 "cells": [
  {
   "cell_type": "code",
   "execution_count": 45,
   "metadata": {},
   "outputs": [],
   "source": [
    "with open(\"data/input.txt\",\"r\") as file:\n",
    "    data = file.read().strip()\n",
    "\n",
    "rules, orders = data.split(\"\\n\\n\") \n",
    "rules = [x.split(\"|\") for x in rules.split(\"\\n\")]\n",
    "orders = [x.split(\",\") for x in orders.split(\"\\n\")]"
   ]
  },
  {
   "cell_type": "markdown",
   "metadata": {},
   "source": [
    "# Problem 1"
   ]
  },
  {
   "cell_type": "code",
   "execution_count": 49,
   "metadata": {},
   "outputs": [
    {
     "data": {
      "text/plain": [
       "5991"
      ]
     },
     "execution_count": 49,
     "metadata": {},
     "output_type": "execute_result"
    }
   ],
   "source": [
    "from collections import defaultdict\n",
    "\n",
    "order_dict = defaultdict(list)\n",
    "for rule in rules:\n",
    "    order_dict[rule[1]].append(rule[0])\n",
    "\n",
    "res = 0\n",
    "for order in orders:\n",
    "    for i,value in enumerate(order):\n",
    "        if value in order_dict:\n",
    "            banned_list = order_dict[value]\n",
    "           \n",
    "            if any([val in banned_list for val in order[i+1:]]):\n",
    "                break\n",
    "    else:\n",
    "        res += int(order[int(len(order)/2)])\n",
    "\n",
    "res\n"
   ]
  },
  {
   "cell_type": "markdown",
   "metadata": {},
   "source": [
    "# Problem 2"
   ]
  },
  {
   "cell_type": "code",
   "execution_count": null,
   "metadata": {},
   "outputs": [
    {
     "data": {
      "text/plain": [
       "5479"
      ]
     },
     "execution_count": 65,
     "metadata": {},
     "output_type": "execute_result"
    }
   ],
   "source": [
    "from collections import defaultdict\n",
    "from functools import cmp_to_key\n",
    "\n",
    "order_dict = defaultdict(list)\n",
    "for rule in rules:\n",
    "    order_dict[rule[1]].append(rule[0])\n",
    "\n",
    "def rule_comparator(item1, item2):\n",
    "    if item1 in order_dict and item2 in order_dict[item1]:\n",
    "        return 1\n",
    "    elif item2 in order_dict and item1 in order_dict[item2]:\n",
    "        return -1\n",
    "    else:\n",
    "        return 0\n",
    "\n",
    "res = 0\n",
    "for order in orders:\n",
    "    broke = False\n",
    "    for i,value in enumerate(order):\n",
    "        if value in order_dict:\n",
    "            banned_list = order_dict[value]\n",
    "\n",
    "            if any([val in banned_list for val in order[i+1:]]):\n",
    "                broke = True\n",
    "                break\n",
    "    \n",
    "    if broke:\n",
    "        order_sorted = sorted(order, key=cmp_to_key(rule_comparator))\n",
    "        res += int(order_sorted[int(len(order_sorted)/2)])\n",
    "\n",
    "res\n"
   ]
  }
 ],
 "metadata": {
  "kernelspec": {
   "display_name": ".venv",
   "language": "python",
   "name": "python3"
  },
  "language_info": {
   "codemirror_mode": {
    "name": "ipython",
    "version": 3
   },
   "file_extension": ".py",
   "mimetype": "text/x-python",
   "name": "python",
   "nbconvert_exporter": "python",
   "pygments_lexer": "ipython3",
   "version": "3.13.1"
  }
 },
 "nbformat": 4,
 "nbformat_minor": 2
}
