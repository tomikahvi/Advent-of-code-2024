{
 "cells": [
  {
   "cell_type": "code",
   "execution_count": 18,
   "metadata": {},
   "outputs": [],
   "source": [
    "with open(\"data/input.txt\",\"r\") as file:\n",
    "    data = file.read().strip().split(\"\\n\")\n",
    "\n",
    "data = [[y for y in x] for x in data]\n",
    "data\n",
    "\n",
    "dims = [len(data),len(data[0])]"
   ]
  },
  {
   "cell_type": "markdown",
   "metadata": {},
   "source": [
    "# Problem 1"
   ]
  },
  {
   "cell_type": "code",
   "execution_count": 7,
   "metadata": {},
   "outputs": [
    {
     "data": {
      "text/plain": [
       "14"
      ]
     },
     "execution_count": 7,
     "metadata": {},
     "output_type": "execute_result"
    }
   ],
   "source": [
    "from collections import defaultdict\n",
    "from itertools import combinations\n",
    "\n",
    "def get_null_points(point1,point2):\n",
    "    offset = [point1[0] - point2[0], point1[1] - point2[1]]\n",
    "    return  [(point1[0] + offset[0], point1[1] + offset[1]), (point2[0] - offset[0], point2[1] - offset[1])] \n",
    "\n",
    "\n",
    "antenna_cord_dict = defaultdict(list)\n",
    "\n",
    "for y in range(dims[0]):\n",
    "    for x in range(dims[1]):\n",
    "        if data[y][x] != \".\":\n",
    "            antenna_cord_dict[data[y][x]].append([y,x])\n",
    "\n",
    "null_set = set([])\n",
    "\n",
    "for frequency in antenna_cord_dict:\n",
    "    antenna_pairs = combinations(antenna_cord_dict[frequency],2)\n",
    "    for pair in antenna_pairs:\n",
    "        for null_point in get_null_points(*pair):\n",
    "            if 0 <= null_point[0] < dims[0] and 0 <= null_point[1] < dims[1]:\n",
    "                null_set.add(null_point)\n",
    "\n",
    "res = len(null_set)\n",
    "res"
   ]
  },
  {
   "cell_type": "markdown",
   "metadata": {},
   "source": [
    "# Problem 2"
   ]
  },
  {
   "cell_type": "code",
   "execution_count": 19,
   "metadata": {},
   "outputs": [
    {
     "data": {
      "text/plain": [
       "1277"
      ]
     },
     "execution_count": 19,
     "metadata": {},
     "output_type": "execute_result"
    }
   ],
   "source": [
    "from collections import defaultdict\n",
    "from itertools import combinations\n",
    "\n",
    "def is_whole(f, eps):\n",
    "    return abs(f - round(f)) < abs(eps)\n",
    "\n",
    "def get_null_points(point1,point2,dims):\n",
    "    offset = [point1[0] - point2[0], point1[1] - point2[1]]\n",
    "    k = offset[0]/offset[1]\n",
    "    antinodes = []\n",
    "    for x in range(dims[1]):\n",
    "        possible_antinode = (k*(x-point1[1]) + point1[0], x)\n",
    "        if is_whole(possible_antinode[0],0.01):\n",
    "            possible_antinode = (int(possible_antinode[0]), possible_antinode[1])\n",
    "            antinodes.append(possible_antinode)\n",
    "\n",
    "    return antinodes\n",
    "\n",
    "antenna_cord_dict = defaultdict(list)\n",
    "\n",
    "for y in range(dims[0]):\n",
    "    for x in range(dims[1]):\n",
    "        if data[y][x] != \".\":\n",
    "            antenna_cord_dict[data[y][x]].append([y,x])\n",
    "\n",
    "null_set = set([])\n",
    "\n",
    "for frequency in antenna_cord_dict:\n",
    "    antenna_pairs = combinations(antenna_cord_dict[frequency],2)\n",
    "    for pair in antenna_pairs:\n",
    "        for null_point in get_null_points(*pair,dims):\n",
    "            if 0 <= null_point[0] < dims[0] and 0 <= null_point[1] < dims[1]:\n",
    "                null_set.add(null_point)\n",
    "\n",
    "res = len(null_set)\n",
    "res"
   ]
  }
 ],
 "metadata": {
  "kernelspec": {
   "display_name": ".venv",
   "language": "python",
   "name": "python3"
  },
  "language_info": {
   "codemirror_mode": {
    "name": "ipython",
    "version": 3
   },
   "file_extension": ".py",
   "mimetype": "text/x-python",
   "name": "python",
   "nbconvert_exporter": "python",
   "pygments_lexer": "ipython3",
   "version": "3.13.1"
  }
 },
 "nbformat": 4,
 "nbformat_minor": 2
}
