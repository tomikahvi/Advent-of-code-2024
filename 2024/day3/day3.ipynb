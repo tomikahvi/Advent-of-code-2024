{
 "cells": [
  {
   "cell_type": "code",
   "execution_count": 10,
   "metadata": {},
   "outputs": [],
   "source": [
    "with open(\"data/input.txt\",\"r\") as file:\n",
    "    data = file.read().strip()"
   ]
  },
  {
   "cell_type": "markdown",
   "metadata": {},
   "source": [
    "# Problem 1"
   ]
  },
  {
   "cell_type": "code",
   "execution_count": null,
   "metadata": {},
   "outputs": [
    {
     "data": {
      "text/plain": [
       "185797128"
      ]
     },
     "execution_count": 11,
     "metadata": {},
     "output_type": "execute_result"
    }
   ],
   "source": [
    "import re\n",
    "\n",
    "mul_regex = r\"mul\\((\\d+)\\,(\\d+)\\)\"\n",
    "\n",
    "res = sum([int(x[0])*int(x[1]) for x in re.findall(mul_regex,data)])\n",
    "res"
   ]
  },
  {
   "cell_type": "markdown",
   "metadata": {},
   "source": [
    "# Problem 2"
   ]
  },
  {
   "cell_type": "code",
   "execution_count": null,
   "metadata": {},
   "outputs": [
    {
     "data": {
      "text/plain": [
       "89798695"
      ]
     },
     "execution_count": 29,
     "metadata": {},
     "output_type": "execute_result"
    }
   ],
   "source": [
    "import re, bisect\n",
    "\n",
    "enable_regex = r\"do\\(\\)\"\n",
    "disable_regex = r\"don\\'t\\(\\)\"\n",
    "\n",
    "enables = [x.span()[0] for x in re.finditer(enable_regex,data)]\n",
    "disables = [x.span()[0] for x in re.finditer(disable_regex,data)]\n",
    "\n",
    "cleaned_data = \"\"\n",
    "i = 0\n",
    "l1 = 0\n",
    "l2 = 0\n",
    "while i < len(data):\n",
    "    while l1 < len(disables) and disables[l1] < i:\n",
    "        l1 += 1\n",
    "    if l1 == len(disables):\n",
    "        cleaned_data += data[i:]\n",
    "        break\n",
    "\n",
    "    disabled_idx = disables[l1]\n",
    "    \n",
    "    cleaned_data += data[i:disabled_idx]\n",
    "    \n",
    "    while l2 < len(enables) and enables[l2] < disabled_idx:\n",
    "        l2 += 1\n",
    "    i = enables[l2]\n",
    "    \n",
    "mul_regex = r\"mul\\((\\d+)\\,(\\d+)\\)\"\n",
    "\n",
    "res = sum([int(x[0])*int(x[1]) for x in re.findall(mul_regex,cleaned_data)])\n",
    "res"
   ]
  }
 ],
 "metadata": {
  "kernelspec": {
   "display_name": ".venv",
   "language": "python",
   "name": "python3"
  },
  "language_info": {
   "codemirror_mode": {
    "name": "ipython",
    "version": 3
   },
   "file_extension": ".py",
   "mimetype": "text/x-python",
   "name": "python",
   "nbconvert_exporter": "python",
   "pygments_lexer": "ipython3",
   "version": "3.13.1"
  }
 },
 "nbformat": 4,
 "nbformat_minor": 2
}
