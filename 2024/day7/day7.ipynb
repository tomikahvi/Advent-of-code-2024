{
 "cells": [
  {
   "cell_type": "code",
   "execution_count": 1,
   "metadata": {},
   "outputs": [],
   "source": [
    "with open(\"data/input.txt\",\"r\") as file:\n",
    "    data = file.read().strip()\n",
    "\n",
    "data = data.split(\"\\n\")\n",
    "data_processed = []\n",
    "for problem in data:\n",
    "    result, values = problem.split(\": \")\n",
    "    \n",
    "    result = int(result)\n",
    "    values = [int(x) for x in values.split(\" \")]\n",
    "    current = values[0]\n",
    "\n",
    "    data_processed.append([result,current,values])"
   ]
  },
  {
   "cell_type": "code",
   "execution_count": 2,
   "metadata": {},
   "outputs": [],
   "source": [
    "import random\n",
    "def debug_problem_generator():\n",
    "    while True:\n",
    "        list_len = random.randint(3,10)\n",
    "        values = [random.randint(1,1000) for i in range(list_len)]\n",
    "        solution_list = []\n",
    "\n",
    "        result = 0\n",
    "        for value in values:\n",
    "            if bool(random.getrandbits(1)):\n",
    "                result = result * value\n",
    "                solution_list.append(\"*\")\n",
    "            else:\n",
    "                result += value\n",
    "                solution_list.append(\"+\")\n",
    "\n",
    "        yield result, values, solution_list"
   ]
  },
  {
   "cell_type": "markdown",
   "metadata": {},
   "source": [
    "# RECURSION MASTER RACE"
   ]
  },
  {
   "cell_type": "code",
   "execution_count": null,
   "metadata": {},
   "outputs": [],
   "source": [
    "def calc_value(expected,current,value_list,operators,i=0):\n",
    "    i += 1\n",
    "    if len(value_list)-1 == i:\n",
    "        return any([oper(current,value_list[i]) == expected for oper in operators])\n",
    "    \n",
    "    else:\n",
    "        return any([\n",
    "            calc_value(expected,oper(current,value_list[i]),value_list,operators,i) \n",
    "            if oper(current,value_list[i]) <= expected else False \n",
    "            for oper in operators\n",
    "            ])"
   ]
  },
  {
   "cell_type": "markdown",
   "metadata": {},
   "source": [
    "# Problem 1"
   ]
  },
  {
   "cell_type": "code",
   "execution_count": null,
   "metadata": {},
   "outputs": [
    {
     "data": {
      "text/plain": [
       "3598800864292"
      ]
     },
     "execution_count": 3,
     "metadata": {},
     "output_type": "execute_result"
    }
   ],
   "source": [
    "operators = [\n",
    "    lambda x,y: x*y,\n",
    "    lambda x,y: x+y\n",
    "]\n",
    "\n",
    "res = 0\n",
    "for result,current,values in data_processed:\n",
    "    if calc_value(result,current,values,operators):\n",
    "        res += result\n",
    "\n",
    "res"
   ]
  },
  {
   "cell_type": "markdown",
   "metadata": {},
   "source": [
    "### Alternative oneliner"
   ]
  },
  {
   "cell_type": "code",
   "execution_count": null,
   "metadata": {},
   "outputs": [],
   "source": [
    "sum([res for res,_,_ in filter(lambda x: calc_value(*x,operators),data_processed)])"
   ]
  },
  {
   "cell_type": "markdown",
   "metadata": {},
   "source": [
    "# Problem 2"
   ]
  },
  {
   "cell_type": "code",
   "execution_count": 4,
   "metadata": {},
   "outputs": [
    {
     "data": {
      "text/plain": [
       "340362529351427"
      ]
     },
     "execution_count": 4,
     "metadata": {},
     "output_type": "execute_result"
    }
   ],
   "source": [
    "operators = [\n",
    "    lambda x,y: x*y,\n",
    "    lambda x,y: x+y,\n",
    "    lambda x,y: int(f\"{x}{y}\")]\n",
    "res = 0\n",
    "\n",
    "for result,current,values in data_processed:\n",
    "    if calc_value(result,current,values,operators):\n",
    "        res += result\n",
    "res"
   ]
  },
  {
   "cell_type": "markdown",
   "metadata": {},
   "source": [
    "### Alternative oneliner"
   ]
  },
  {
   "cell_type": "code",
   "execution_count": 8,
   "metadata": {},
   "outputs": [
    {
     "data": {
      "text/plain": [
       "340362529351427"
      ]
     },
     "execution_count": 8,
     "metadata": {},
     "output_type": "execute_result"
    }
   ],
   "source": [
    "sum([res for res,_,_ in filter(lambda x: calc_value(*x,operators),data_processed)])"
   ]
  }
 ],
 "metadata": {
  "kernelspec": {
   "display_name": ".venv",
   "language": "python",
   "name": "python3"
  },
  "language_info": {
   "codemirror_mode": {
    "name": "ipython",
    "version": 3
   },
   "file_extension": ".py",
   "mimetype": "text/x-python",
   "name": "python",
   "nbconvert_exporter": "python",
   "pygments_lexer": "ipython3",
   "version": "3.13.1"
  }
 },
 "nbformat": 4,
 "nbformat_minor": 2
}
