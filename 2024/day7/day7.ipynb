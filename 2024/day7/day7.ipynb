{
 "cells": [
  {
   "cell_type": "code",
   "execution_count": 28,
   "metadata": {},
   "outputs": [],
   "source": [
    "with open(\"data/input.txt\",\"r\") as file:\n",
    "    data = file.read().strip()\n",
    "\n",
    "data = data.split(\"\\n\")"
   ]
  },
  {
   "cell_type": "code",
   "execution_count": null,
   "metadata": {},
   "outputs": [],
   "source": [
    "import random\n",
    "def debug_problem_generator():\n",
    "    while True:\n",
    "        list_len = random.randint(3,10)\n",
    "        values = [random.randint(1,1000) for i in range(list_len)]\n",
    "        solution_list = []\n",
    "\n",
    "        result = 0\n",
    "        for value in values:\n",
    "            if bool(random.getrandbits(1)):\n",
    "                result = result * value\n",
    "                solution_list.append(\"*\")\n",
    "            else:\n",
    "                result += value\n",
    "                solution_list.append(\"+\")\n",
    "\n",
    "        yield result, values, solution_list"
   ]
  },
  {
   "cell_type": "markdown",
   "metadata": {},
   "source": [
    "# Problem 1"
   ]
  },
  {
   "cell_type": "code",
   "execution_count": null,
   "metadata": {},
   "outputs": [
    {
     "data": {
      "text/plain": [
       "3598800864292"
      ]
     },
     "execution_count": 150,
     "metadata": {},
     "output_type": "execute_result"
    }
   ],
   "source": [
    "def calc_value(expected,current,value_list,i=0):\n",
    "    if len(value_list)-1 == i:\n",
    "        mult_true = current * value_list[i] == expected\n",
    "        sum_true = current + value_list[i] == expected\n",
    "        return any([mult_true,sum_true])\n",
    "    \n",
    "    else:\n",
    "        current_mul_val = current*value_list[i]\n",
    "        current_sum_val = current+value_list[i]\n",
    "\n",
    "        i += 1\n",
    "\n",
    "        mul_branch = calc_value(expected,current_mul_val,value_list,i) if current_mul_val <= expected else False\n",
    "        sum_branch = calc_value(expected,current_sum_val,value_list,i) if current_sum_val <= expected else False\n",
    "        \n",
    "        return any([\n",
    "            mul_branch,\n",
    "            sum_branch\n",
    "            ])\n",
    "\n",
    "res = 0\n",
    "for problem in data:\n",
    "    result, values = problem.split(\": \")\n",
    "    \n",
    "    result = int(result)\n",
    "    values = [int(x) for x in values.split(\" \")]\n",
    "    current = values.pop(0)\n",
    "\n",
    "    if calc_value(result,current,values):\n",
    "        res += result\n",
    "res"
   ]
  },
  {
   "cell_type": "markdown",
   "metadata": {},
   "source": [
    "# Problem 2"
   ]
  },
  {
   "cell_type": "code",
   "execution_count": 153,
   "metadata": {},
   "outputs": [
    {
     "data": {
      "text/plain": [
       "340362529351427"
      ]
     },
     "execution_count": 153,
     "metadata": {},
     "output_type": "execute_result"
    }
   ],
   "source": [
    "def calc_value(expected,current,value_list,i=0):\n",
    "    if len(value_list)-1 == i:\n",
    "        mult_true = current * value_list[i] == expected\n",
    "        sum_true = current + value_list[i] == expected\n",
    "        concat_true = int(f\"{current}{value_list[i]}\") == expected\n",
    "        \n",
    "        return any([mult_true,sum_true,concat_true])\n",
    "    \n",
    "    else:\n",
    "        current_mul_val = current*value_list[i]\n",
    "        current_sum_val = current+value_list[i]\n",
    "        current_concat_val = int(f\"{current}{value_list[i]}\")\n",
    "\n",
    "        i += 1\n",
    "\n",
    "        mul_branch = calc_value(expected,current_mul_val,value_list,i) if current_mul_val <= expected else False\n",
    "        sum_branch = calc_value(expected,current_sum_val,value_list,i) if current_sum_val <= expected else False\n",
    "        concat_branch = calc_value(expected,current_concat_val,value_list,i) if current_concat_val <= expected else False\n",
    "\n",
    "        return any([\n",
    "            mul_branch,\n",
    "            sum_branch,\n",
    "            concat_branch\n",
    "            ])\n",
    "\n",
    "res = 0\n",
    "for problem in data:\n",
    "    result, values = problem.split(\": \")\n",
    "    \n",
    "    result = int(result)\n",
    "    values = [int(x) for x in values.split(\" \")]\n",
    "    current = values.pop(0)\n",
    "\n",
    "    if calc_value(result,current,values):\n",
    "        res += result\n",
    "res"
   ]
  }
 ],
 "metadata": {
  "kernelspec": {
   "display_name": ".venv",
   "language": "python",
   "name": "python3"
  },
  "language_info": {
   "codemirror_mode": {
    "name": "ipython",
    "version": 3
   },
   "file_extension": ".py",
   "mimetype": "text/x-python",
   "name": "python",
   "nbconvert_exporter": "python",
   "pygments_lexer": "ipython3",
   "version": "3.13.1"
  }
 },
 "nbformat": 4,
 "nbformat_minor": 2
}
