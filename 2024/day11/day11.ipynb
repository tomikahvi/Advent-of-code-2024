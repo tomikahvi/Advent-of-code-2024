{
 "cells": [
  {
   "cell_type": "code",
   "execution_count": 3,
   "metadata": {},
   "outputs": [],
   "source": [
    "with open(\"data/input.txt\",\"r\") as file:\n",
    "    data = file.read().strip()\n",
    "\n",
    "data = [int(x) for x in data.split(\" \")]"
   ]
  },
  {
   "cell_type": "markdown",
   "metadata": {},
   "source": [
    "# Problem 1"
   ]
  },
  {
   "cell_type": "code",
   "execution_count": 4,
   "metadata": {},
   "outputs": [],
   "source": [
    "def apply_fn(x):\n",
    "    if x == 0:\n",
    "        return [1]\n",
    "    elif len(str(x)) % 2 == 0:\n",
    "        str_x = str(x)\n",
    "        split_idx = int(len(str_x)/2)\n",
    "        return [int(str_x[:split_idx]), int(str_x[split_idx:])]\n",
    "    else:\n",
    "        return [x*2024]"
   ]
  },
  {
   "cell_type": "code",
   "execution_count": 4,
   "metadata": {},
   "outputs": [
    {
     "data": {
      "text/plain": [
       "224529"
      ]
     },
     "execution_count": 4,
     "metadata": {},
     "output_type": "execute_result"
    }
   ],
   "source": [
    "for i in range(25):\n",
    "    tmp_list = []\n",
    "    [tmp_list.append(value) for x in data for value in apply_fn(x)]\n",
    "    data = tmp_list\n",
    "\n",
    "res = len(data)\n",
    "res"
   ]
  },
  {
   "cell_type": "markdown",
   "metadata": {},
   "source": [
    "# Problem 2"
   ]
  },
  {
   "cell_type": "code",
   "execution_count": 2,
   "metadata": {},
   "outputs": [],
   "source": [
    "#Reset data\n",
    "with open(\"data/input.txt\",\"r\") as file:\n",
    "    data = file.read().strip()\n",
    "\n",
    "data_orig = [int(x) for x in data.split(\" \")]"
   ]
  },
  {
   "cell_type": "code",
   "execution_count": 24,
   "metadata": {},
   "outputs": [
    {
     "data": {
      "text/plain": [
       "6"
      ]
     },
     "execution_count": 24,
     "metadata": {},
     "output_type": "execute_result"
    }
   ],
   "source": [
    "solution_dict = {}\n",
    "\n",
    "def add_val2sol_dict(sol_dict,value,count=1):\n",
    "    if not value in sol_dict:\n",
    "        next_step = apply_fn(value)\n",
    "        solution_dict[value] = {\n",
    "            \"current_count\": 0,\n",
    "            \"next_count\": count,\n",
    "            \"next_step\": next_step\n",
    "        }\n",
    "    else:\n",
    "        sol_dict[value][\"next_count\"] += count\n",
    "\n",
    "def reset_sol_dict(sol_dict):\n",
    "    for value in solution_dict:\n",
    "        solution_dict[value][\"current_count\"] = solution_dict[value][\"next_count\"]\n",
    "        solution_dict[value][\"next_count\"] = 0\n",
    "\n",
    "[add_val2sol_dict(solution_dict,x) for x in data_orig]\n",
    "reset_sol_dict(solution_dict)\n",
    "\n",
    "for i in range(75):\n",
    "    looped_values = [value for value in solution_dict] #Dict will change during iteration\n",
    "    for value in looped_values:\n",
    "        current_val = solution_dict[value]\n",
    "        if current_val[\"current_count\"] > 0:\n",
    "            for next_value in current_val[\"next_step\"]:\n",
    "                add_val2sol_dict(solution_dict,next_value,current_val[\"current_count\"])\n",
    "    \n",
    "    reset_sol_dict(solution_dict)\n",
    "\n",
    "res = sum([solution_dict[value][\"current_count\"] for value in solution_dict])\n",
    "res"
   ]
  }
 ],
 "metadata": {
  "kernelspec": {
   "display_name": ".venv",
   "language": "python",
   "name": "python3"
  },
  "language_info": {
   "codemirror_mode": {
    "name": "ipython",
    "version": 3
   },
   "file_extension": ".py",
   "mimetype": "text/x-python",
   "name": "python",
   "nbconvert_exporter": "python",
   "pygments_lexer": "ipython3",
   "version": "3.13.1"
  }
 },
 "nbformat": 4,
 "nbformat_minor": 2
}
