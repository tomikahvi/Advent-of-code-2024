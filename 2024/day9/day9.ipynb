{
 "cells": [
  {
   "cell_type": "code",
   "execution_count": 7,
   "metadata": {},
   "outputs": [],
   "source": [
    "with open(\"data/input.txt\",\"r\") as file:\n",
    "    data = file.read().strip()"
   ]
  },
  {
   "cell_type": "markdown",
   "metadata": {},
   "source": [
    "# Problem 1"
   ]
  },
  {
   "cell_type": "code",
   "execution_count": 8,
   "metadata": {},
   "outputs": [
    {
     "data": {
      "text/plain": [
       "6461289671426"
      ]
     },
     "execution_count": 8,
     "metadata": {},
     "output_type": "execute_result"
    }
   ],
   "source": [
    "exploded_memory = []\n",
    "\n",
    "file_id = 0\n",
    "for i in range(len(data)):\n",
    "    if i % 2 == 0:\n",
    "        exploded_memory += [file_id]*int(data[i])\n",
    "        file_id += 1\n",
    "    else:\n",
    "        exploded_memory += [None]*int(data[i])\n",
    "\n",
    "current_empty_idx = 0\n",
    "max_memory_idx = len(exploded_memory) - 1\n",
    "\n",
    "for i,value in enumerate(exploded_memory[::-1]):\n",
    "    reverse_idx = max_memory_idx - i\n",
    "    if reverse_idx <= current_empty_idx:\n",
    "        break\n",
    "    if not value is None:\n",
    "        while True and current_empty_idx <= max_memory_idx:\n",
    "            current_empty_idx\n",
    "            if exploded_memory[current_empty_idx] is None:\n",
    "                exploded_memory[current_empty_idx] = value\n",
    "                exploded_memory[reverse_idx] = None\n",
    "                break\n",
    "            else:\n",
    "                current_empty_idx += 1\n",
    "\n",
    "exploded_memory = [x for x in exploded_memory if not x is None]\n",
    "\n",
    "res = sum([i*value for i,value in enumerate(exploded_memory) if value is not None])\n",
    "res\n"
   ]
  },
  {
   "cell_type": "markdown",
   "metadata": {},
   "source": [
    "# Problem 2"
   ]
  },
  {
   "cell_type": "code",
   "execution_count": 9,
   "metadata": {},
   "outputs": [
    {
     "data": {
      "text/plain": [
       "6488291456470"
      ]
     },
     "execution_count": 9,
     "metadata": {},
     "output_type": "execute_result"
    }
   ],
   "source": [
    "exploded_memory = []\n",
    "\n",
    "file_id = 0\n",
    "for i in range(len(data)):\n",
    "    if i % 2 == 0:\n",
    "        exploded_memory += [{\n",
    "            \"file_id\": file_id,\n",
    "            \"file_size\":int(data[i])\n",
    "        }]\n",
    "        file_id += 1\n",
    "    else:\n",
    "        exploded_memory += [{\n",
    "            \"file_id\": None,\n",
    "            \"file_size\":int(data[i])\n",
    "        }]\n",
    "\n",
    "reverse_idx = len(exploded_memory) - 1\n",
    "\n",
    "while reverse_idx >= 0:\n",
    "    if not exploded_memory[reverse_idx][\"file_id\"] is None:\n",
    "        current_empty_idx = 0\n",
    "        while True and current_empty_idx <= reverse_idx:\n",
    "            if exploded_memory[current_empty_idx][\"file_id\"] is None and exploded_memory[current_empty_idx][\"file_size\"] >= exploded_memory[reverse_idx][\"file_size\"]:\n",
    "                old_value = exploded_memory[current_empty_idx]\n",
    "                exploded_memory[current_empty_idx] = exploded_memory[reverse_idx]\n",
    "                \n",
    "                new_empty_space = old_value[\"file_size\"]-exploded_memory[reverse_idx][\"file_size\"]\n",
    "                if new_empty_space > 0:\n",
    "                    exploded_memory.insert(current_empty_idx+1, {\"file_id\": None,\"file_size\":old_value[\"file_size\"]-exploded_memory[reverse_idx][\"file_size\"]})\n",
    "                    reverse_idx += 1 #list has now one additional element\n",
    "                exploded_memory[reverse_idx] = {\"file_id\": None,\"file_size\":exploded_memory[reverse_idx][\"file_size\"]}\n",
    "                break\n",
    "            else:\n",
    "                current_empty_idx += 1\n",
    "    reverse_idx += -1\n",
    "\n",
    "ex_ex_memory = []\n",
    "[ex_ex_memory := ex_ex_memory + [x[\"file_id\"]]*x[\"file_size\"] for x in exploded_memory]\n",
    "\n",
    "res = sum([i*value for i,value in enumerate(ex_ex_memory) if value is not None])\n",
    "res"
   ]
  }
 ],
 "metadata": {
  "kernelspec": {
   "display_name": ".venv",
   "language": "python",
   "name": "python3"
  },
  "language_info": {
   "codemirror_mode": {
    "name": "ipython",
    "version": 3
   },
   "file_extension": ".py",
   "mimetype": "text/x-python",
   "name": "python",
   "nbconvert_exporter": "python",
   "pygments_lexer": "ipython3",
   "version": "3.13.1"
  }
 },
 "nbformat": 4,
 "nbformat_minor": 2
}
