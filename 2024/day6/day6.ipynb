{
 "cells": [
  {
   "cell_type": "code",
   "execution_count": 11,
   "metadata": {},
   "outputs": [],
   "source": [
    "with open(\"data/input.txt\",\"r\") as file:\n",
    "    data = file.read().strip()\n",
    "\n",
    "data = [[char for char in x] for x in data.split(\"\\n\")]\n",
    "dims = (len(data),len(data[0]))"
   ]
  },
  {
   "cell_type": "markdown",
   "metadata": {},
   "source": [
    "# Problem 1"
   ]
  },
  {
   "cell_type": "code",
   "execution_count": 14,
   "metadata": {},
   "outputs": [
    {
     "data": {
      "text/plain": [
       "5086"
      ]
     },
     "execution_count": 14,
     "metadata": {},
     "output_type": "execute_result"
    }
   ],
   "source": [
    "def direction_iterator(starting_dir):\n",
    "    dir = starting_dir\n",
    "    yield dir\n",
    "    \n",
    "    #90 deg turn\n",
    "    while True:\n",
    "        dir = [dir[1],-1*dir[0]]    \n",
    "        yield dir\n",
    "\n",
    "current_y, current_x = [(i, row.index(\"^\")) for i, row in enumerate(data) if \"^\" in row][0]\n",
    "dir_iterator = direction_iterator([-1,0]) #North\n",
    "current_dir = next(dir_iterator)\n",
    "\n",
    "end = False\n",
    "seen_idx = set([(current_y,current_x)])\n",
    "while True:\n",
    "    # Move\n",
    "    current_x = current_x+current_dir[1]\n",
    "    current_y = current_y+current_dir[0]\n",
    "    seen_idx.add((current_y,current_x))\n",
    "    if 0 <= current_x < dims[1] and 0 <= current_y < dims[0]:\n",
    "        # Find valid direction\n",
    "        while True:\n",
    "            next_x = current_x+current_dir[1]\n",
    "            next_y = current_y+current_dir[0]\n",
    "            if 0 <= next_x < dims[1] and 0 <= next_y < dims[0]:\n",
    "                if data[next_y][next_x] == \"#\":\n",
    "                    current_dir = next(dir_iterator)\n",
    "                else: #Valid dir\n",
    "                    break\n",
    "            else:\n",
    "                end = True\n",
    "                break\n",
    "    if end:\n",
    "        break\n",
    "\n",
    "res = len(list(seen_idx))\n",
    "res"
   ]
  },
  {
   "cell_type": "markdown",
   "metadata": {},
   "source": [
    "# Problem 2"
   ]
  },
  {
   "cell_type": "code",
   "execution_count": null,
   "metadata": {},
   "outputs": [
    {
     "data": {
      "text/plain": [
       "1770"
      ]
     },
     "execution_count": 16,
     "metadata": {},
     "output_type": "execute_result"
    }
   ],
   "source": [
    "from collections import defaultdict\n",
    "\n",
    "def direction_iterator(starting_dir):\n",
    "    dir = starting_dir\n",
    "    yield dir\n",
    "    \n",
    "    #90 deg turn\n",
    "    while True:\n",
    "        dir = [dir[1],-1*dir[0]]    \n",
    "        yield dir\n",
    "\n",
    "current_y, current_x = [(i, row.index(\"^\")) for i, row in enumerate(data) if \"^\" in row][0]\n",
    "dir_iterator = direction_iterator([-1,0]) #North\n",
    "current_dir = next(dir_iterator)\n",
    "\n",
    "def find_loop(current_x,current_y,current_dir):\n",
    "    dir_iterator = direction_iterator(current_dir)\n",
    "    current_dir = next(dir_iterator)\n",
    "\n",
    "    seen_obstructions = []\n",
    "    end = False\n",
    "\n",
    "    while True:\n",
    "        next_x = current_x+current_dir[1]\n",
    "        next_y = current_y+current_dir[0]\n",
    "        if 0 <= next_x < dims[1] and 0 <= next_y < dims[0]:\n",
    "            if data[next_y][next_x] == \"#\":\n",
    "                current_dir = next(dir_iterator)\n",
    "\n",
    "                #Loop detected\n",
    "                if f\"{next_x},{next_y},{current_dir}\" in seen_obstructions: \n",
    "                    return 1\n",
    "                \n",
    "                seen_obstructions.append(f\"{next_x},{next_y},{current_dir}\")\n",
    "            else: #Valid dir\n",
    "                break\n",
    "\n",
    "    while True:\n",
    "        # Move\n",
    "        current_x = current_x+current_dir[1]\n",
    "        current_y = current_y+current_dir[0]\n",
    "        if 0 <= current_x < dims[1] and 0 <= current_y < dims[0]:\n",
    "            # Find valid direction\n",
    "            while True:\n",
    "                next_x = current_x+current_dir[1]\n",
    "                next_y = current_y+current_dir[0]\n",
    "                if 0 <= next_x < dims[1] and 0 <= next_y < dims[0]:\n",
    "                    if data[next_y][next_x] == \"#\":\n",
    "                        current_dir = next(dir_iterator)\n",
    "    \n",
    "                        #Loop detected\n",
    "                        if f\"{next_x},{next_y},{current_dir}\" in seen_obstructions: \n",
    "                            return 1\n",
    "                        \n",
    "                        seen_obstructions.append(f\"{next_x},{next_y},{current_dir}\")\n",
    "                    else: #Valid dir\n",
    "                        break\n",
    "                else:\n",
    "                    end = True\n",
    "                    break\n",
    "        if end:\n",
    "            break\n",
    "    \n",
    "    return 0\n",
    "\n",
    "res = 0\n",
    "end = False\n",
    "used_cords = set([])\n",
    "while True:\n",
    "    # Move\n",
    "    current_x = current_x+current_dir[1]\n",
    "    current_y = current_y+current_dir[0]\n",
    "    used_cords.add((current_x,current_y))\n",
    "    if 0 <= current_x < dims[1] and 0 <= current_y < dims[0]:\n",
    "        # Find valid direction\n",
    "        while True:\n",
    "            next_x = current_x+current_dir[1]\n",
    "            next_y = current_y+current_dir[0]\n",
    "            \n",
    "            if 0 <= next_x < dims[1] and 0 <= next_y < dims[0]:\n",
    "                if data[next_y][next_x] == \"#\":\n",
    "                    current_dir = next(dir_iterator)\n",
    "                else: #Valid dir\n",
    "                    if not (next_x,next_y) in used_cords:\n",
    "                        data[next_y][next_x] = \"#\"\n",
    "                        res += find_loop(current_x, current_y, current_dir)\n",
    "                        data[next_y][next_x] = \".\"\n",
    "                    break\n",
    "            else:\n",
    "                end = True\n",
    "                break\n",
    "    if end:\n",
    "        break\n",
    "\n",
    "res"
   ]
  }
 ],
 "metadata": {
  "kernelspec": {
   "display_name": ".venv",
   "language": "python",
   "name": "python3"
  },
  "language_info": {
   "codemirror_mode": {
    "name": "ipython",
    "version": 3
   },
   "file_extension": ".py",
   "mimetype": "text/x-python",
   "name": "python",
   "nbconvert_exporter": "python",
   "pygments_lexer": "ipython3",
   "version": "3.13.1"
  }
 },
 "nbformat": 4,
 "nbformat_minor": 2
}
