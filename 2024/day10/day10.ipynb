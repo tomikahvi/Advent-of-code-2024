{
 "cells": [
  {
   "cell_type": "code",
   "execution_count": 1,
   "metadata": {},
   "outputs": [],
   "source": [
    "with open(\"data/input.txt\",\"r\") as file:\n",
    "    data = file.read().strip()\n",
    "\n",
    "data = [[int(y) for y in x] for x in data.split(\"\\n\")]\n",
    "dims = [len(data),len(data[0])]"
   ]
  },
  {
   "cell_type": "markdown",
   "metadata": {},
   "source": [
    "# Problem 1"
   ]
  },
  {
   "cell_type": "markdown",
   "metadata": {},
   "source": []
  },
  {
   "cell_type": "code",
   "execution_count": 2,
   "metadata": {},
   "outputs": [
    {
     "data": {
      "text/plain": [
       "776"
      ]
     },
     "execution_count": 2,
     "metadata": {},
     "output_type": "execute_result"
    }
   ],
   "source": [
    "def calc_trailhead_points(point,map):\n",
    "    dirs = [(0,1),(0,-1),(1,0),(-1,0)]\n",
    "    value = map[point[0]][point[1]]\n",
    "\n",
    "    if value == 9:\n",
    "        return [point]\n",
    "\n",
    "    res_list = []\n",
    "    for direction in dirs:\n",
    "        new_y = point[0]+direction[0]\n",
    "        new_x = point[1]+direction[1]\n",
    "        if 0 <= new_y < dims[0] and 0 <= new_x < dims[1] and map[new_y][new_x] == value + 1:\n",
    "            res_list += calc_trailhead_points((new_y,new_x),map)\n",
    "    return list(set(res_list))\n",
    "\n",
    "res = 0\n",
    "for y in range(dims[0]):\n",
    "    for x in range(dims[1]):\n",
    "        if data[y][x] == 0:\n",
    "            res += len(calc_trailhead_points((y,x),data))\n",
    "res"
   ]
  },
  {
   "cell_type": "markdown",
   "metadata": {},
   "source": [
    "# Problem 2"
   ]
  },
  {
   "cell_type": "code",
   "execution_count": 3,
   "metadata": {},
   "outputs": [
    {
     "data": {
      "text/plain": [
       "1657"
      ]
     },
     "execution_count": 3,
     "metadata": {},
     "output_type": "execute_result"
    }
   ],
   "source": [
    "def calc_trailhead_rating(point,map):\n",
    "    dirs = [(0,1),(0,-1),(1,0),(-1,0)]\n",
    "    value = map[point[0]][point[1]]\n",
    "\n",
    "    if value == 9:\n",
    "        return 1\n",
    "    else:\n",
    "        return sum([\n",
    "            calc_trailhead_rating((point[0]+dir[0],point[1]+dir[1]),map)\n",
    "            if 0 <= point[0]+dir[0] < dims[0] and 0 <= point[1]+dir[1] < dims[1] and map[point[0]+dir[0]][point[1]+dir[1]] == value + 1\n",
    "            else 0\n",
    "            for dir in dirs\n",
    "        ])\n",
    "    \n",
    "res = 0\n",
    "for y in range(dims[0]):\n",
    "    for x in range(dims[1]):\n",
    "        if data[y][x] == 0:\n",
    "            res += calc_trailhead_rating((y,x),data)\n",
    "res"
   ]
  }
 ],
 "metadata": {
  "kernelspec": {
   "display_name": ".venv",
   "language": "python",
   "name": "python3"
  },
  "language_info": {
   "codemirror_mode": {
    "name": "ipython",
    "version": 3
   },
   "file_extension": ".py",
   "mimetype": "text/x-python",
   "name": "python",
   "nbconvert_exporter": "python",
   "pygments_lexer": "ipython3",
   "version": "3.13.1"
  }
 },
 "nbformat": 4,
 "nbformat_minor": 2
}
