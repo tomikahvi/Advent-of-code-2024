{
 "cells": [
  {
   "cell_type": "code",
   "execution_count": 4,
   "metadata": {},
   "outputs": [],
   "source": [
    "with open(\"data/input.txt\",\"r\") as file:\n",
    "    data = file.read().strip()\n",
    "\n",
    "data = data.split(\"\\n\")\n",
    "dims = (len(data),len(data[0]))"
   ]
  },
  {
   "cell_type": "markdown",
   "metadata": {},
   "source": [
    "# Problem 1"
   ]
  },
  {
   "cell_type": "code",
   "execution_count": 6,
   "metadata": {},
   "outputs": [
    {
     "data": {
      "text/plain": [
       "2599"
      ]
     },
     "execution_count": 6,
     "metadata": {},
     "output_type": "execute_result"
    }
   ],
   "source": [
    "def cord_word_count(matrix,x,y):\n",
    "    word = \"XMAS\"\n",
    "    word_len = len(word)\n",
    "\n",
    "    index_offsets = [\n",
    "        [[0,i] for i in range(word_len)], #Word to the right\n",
    "        [[0,-i] for i in range(word_len)], #Reverese word to the left\n",
    "        [[i,0] for i in range(word_len)], #Word below\n",
    "        [[-i,0] for i in range(word_len)], #Reverse word up\n",
    "        [[-i,i] for i in range(word_len)], #Word koillinen\n",
    "        [[i,i] for i in range(word_len)], #Word kaakko\n",
    "        [[i,-i] for i in range(word_len)], #Reverse word lounas\n",
    "        [[-i,-i] for i in range(word_len)] #Reverse word luode\n",
    "    ]\n",
    "\n",
    "    found_word_count = 0\n",
    "    for direction_offsets in index_offsets:\n",
    "        found_word = \"\"\n",
    "        for offset in direction_offsets:\n",
    "            new_x = x+offset[1]\n",
    "            new_y = y+offset[0]\n",
    "            if 0 <= new_x < dims[1] and 0 <= new_y < dims[0]:\n",
    "                found_word += matrix[new_y][new_x]\n",
    "            else:\n",
    "                continue\n",
    "\n",
    "        if found_word == word:\n",
    "            found_word_count += 1\n",
    "    \n",
    "    return found_word_count\n",
    "\n",
    "res = 0\n",
    "for y in range(dims[0]):\n",
    "    for x in range(dims[1]):\n",
    "        found_n = cord_word_count(data,x,y)\n",
    "        if found_n > 0:\n",
    "            res += found_n\n",
    "\n",
    "res"
   ]
  },
  {
   "cell_type": "markdown",
   "metadata": {},
   "source": [
    "# Problem 2"
   ]
  },
  {
   "cell_type": "code",
   "execution_count": null,
   "metadata": {},
   "outputs": [
    {
     "data": {
      "text/plain": [
       "1948"
      ]
     },
     "execution_count": 9,
     "metadata": {},
     "output_type": "execute_result"
    }
   ],
   "source": [
    "def x_mas_count(matrix,x,y):\n",
    "    corner_offsets = [[1,1],[1,-1],[-1,1],[-1,-1]]\n",
    "    \n",
    "    if matrix[y][x] == \"A\":\n",
    "        matches = []\n",
    "        for offset in corner_offsets:\n",
    "            new_x = x+offset[1]\n",
    "            new_y = y+offset[0]\n",
    "            if not (0 <= new_x < dims[1] and 0 <= new_y < dims[0]):\n",
    "                return 0\n",
    "            \n",
    "            matches.append(matrix[new_y][new_x])\n",
    "\n",
    "        if \"\".join(sorted(matches)) == \"MMSS\" and not (matches[1] == matches[2]):\n",
    "            return 1\n",
    "    return 0\n",
    "\n",
    "res = 0\n",
    "for y in range(dims[0]):\n",
    "    for x in range(dims[1]):\n",
    "        found_n = x_mas_count(data,x,y)\n",
    "        if found_n > 0:\n",
    "            res += found_n\n",
    "\n",
    "res"
   ]
  }
 ],
 "metadata": {
  "kernelspec": {
   "display_name": ".venv",
   "language": "python",
   "name": "python3"
  },
  "language_info": {
   "codemirror_mode": {
    "name": "ipython",
    "version": 3
   },
   "file_extension": ".py",
   "mimetype": "text/x-python",
   "name": "python",
   "nbconvert_exporter": "python",
   "pygments_lexer": "ipython3",
   "version": "3.13.1"
  }
 },
 "nbformat": 4,
 "nbformat_minor": 2
}
